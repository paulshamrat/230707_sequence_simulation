{
 "cells": [
  {
   "cell_type": "markdown",
   "metadata": {},
   "source": [
    "# Simulation"
   ]
  },
  {
   "cell_type": "code",
   "execution_count": 1,
   "metadata": {},
   "outputs": [
    {
     "name": "stdout",
     "output_type": "stream",
     "text": [
      "Best conformation: [-182, 102, 62, 168, 18, 210, -138, -29, -198, -129, -98, -141, 150, -177, 34, -190, 128, 4, 180, 70]\n",
      "Total simulation time: 1000.0000000000001 ps\n",
      "Saved results to simulation_results.csv file.\n"
     ]
    }
   ],
   "source": [
    "import random\n",
    "import csv\n",
    "\n",
    "# Define the amino acid sequence of the peptide\n",
    "peptide_sequence = \"ACDEFGHIKLMNPQRSTVWY\"\n",
    "\n",
    "# Define the simulation parameters\n",
    "temperature = 300  # Temperature in Kelvin\n",
    "num_steps = 1000  # Number of simulation steps\n",
    "time_step = 1e-12  # Time step in seconds\n",
    "picoseconds = num_steps * time_step * 1e12  # Total simulation time in picoseconds\n",
    "\n",
    "# Calculate the energy of the peptide conformation\n",
    "def calculate_energy(conformation):\n",
    "    # Define energy parameters (example values)\n",
    "    contact_energy = -1\n",
    "    torsional_energy = -0.5\n",
    "\n",
    "    # Calculate contact energy as the number of neighboring residues\n",
    "    contact_energy_term = sum(1 for i in range(len(conformation) - 1) if abs(conformation[i] - conformation[i+1]) == 1)\n",
    "\n",
    "    # Calculate torsional energy as the sum of dihedral angles\n",
    "    torsional_energy_term = sum(conformation)\n",
    "\n",
    "    # Calculate total energy as the sum of contact and torsional energies\n",
    "    total_energy = contact_energy * contact_energy_term + torsional_energy * torsional_energy_term\n",
    "    return total_energy\n",
    "\n",
    "# Simulate the peptide conformation\n",
    "def simulate_peptide():\n",
    "    # Generate initial random conformation\n",
    "    conformation = [random.randint(-180, 180) for _ in range(len(peptide_sequence))]\n",
    "\n",
    "    # Initialize best conformation and energy\n",
    "    best_conformation = conformation\n",
    "    best_energy = calculate_energy(conformation)\n",
    "\n",
    "    # Perform simulation steps\n",
    "    energies = []\n",
    "    for _ in range(num_steps):\n",
    "        # Randomly select an index to perturb\n",
    "        index = random.randint(0, len(peptide_sequence) - 1)\n",
    "\n",
    "        # Generate a random perturbation angle\n",
    "        perturbation = random.randint(-10, 10)\n",
    "\n",
    "        # Update the conformation with the perturbation\n",
    "        conformation[index] += perturbation\n",
    "\n",
    "        # Calculate the new energy of the conformation\n",
    "        new_energy = calculate_energy(conformation)\n",
    "\n",
    "        # Accept or reject the new conformation based on energy difference\n",
    "        if new_energy < best_energy:\n",
    "            # Update the best conformation and energy\n",
    "            best_conformation = conformation\n",
    "            best_energy = new_energy\n",
    "\n",
    "        # Store the energy at each step\n",
    "        energies.append(best_energy)\n",
    "\n",
    "    return best_conformation, energies\n",
    "\n",
    "# Run the simulation\n",
    "best_conformation, energies = simulate_peptide()\n",
    "\n",
    "# Save the results to a CSV file\n",
    "with open(\"simulation_results.csv\", \"w\", newline=\"\") as csvfile:\n",
    "    writer = csv.writer(csvfile)\n",
    "    writer.writerow([\"Time (ps)\", \"Energy\"])\n",
    "    for i, energy in enumerate(energies):\n",
    "        time = (i + 1) * time_step * 1e12  # Calculate time in picoseconds\n",
    "        writer.writerow([time, energy])\n",
    "\n",
    "# Print the results\n",
    "print(\"Best conformation:\", best_conformation)\n",
    "print(\"Total simulation time:\", picoseconds, \"ps\")\n",
    "print(\"Saved results to simulation_results.csv file.\")\n"
   ]
  },
  {
   "cell_type": "markdown",
   "metadata": {},
   "source": [
    "# Analysis"
   ]
  },
  {
   "cell_type": "code",
   "execution_count": 2,
   "metadata": {},
   "outputs": [
    {
     "data": {
      "image/png": "[encoded data removed]",
      "text/plain": [
       "<Figure size 640x480 with 1 Axes>"
      ]
     },
     "metadata": {},
     "output_type": "display_data"
    }
   ],
   "source": [
    "import matplotlib.pyplot as plt\n",
    "\n",
    "# Read the results from the CSV file\n",
    "times = []\n",
    "energies = []\n",
    "with open(\"simulation_results.csv\", \"r\") as csvfile:\n",
    "    reader = csv.reader(csvfile)\n",
    "    next(reader)  # Skip the header row\n",
    "    for row in reader:\n",
    "        time = float(row[0])\n",
    "        energy = float(row[1])\n",
    "        times.append(time)\n",
    "        energies.append(energy)\n",
    "\n",
    "# Plot the energy graph\n",
    "plt.plot(times, energies, '-o', color='blue')\n",
    "plt.xlabel(\"Time (ps)\")\n",
    "plt.ylabel(\"Energy\")\n",
    "plt.title(\"Peptide Simulation Results\")\n",
    "plt.grid(True)\n",
    "\n",
    "# Save the graph as an image file\n",
    "plt.savefig(\"simulation_graph.png\")\n",
    "\n",
    "# Show the graph\n",
    "plt.show()\n"
   ]
  }
 ],
 "metadata": {
  "kernelspec": {
   "display_name": "Python 3",
   "language": "python",
   "name": "python3"
  },
  "language_info": {
   "codemirror_mode": {
    "name": "ipython",
    "version": 3
   },
   "file_extension": ".py",
   "mimetype": "text/x-python",
   "name": "python",
   "nbconvert_exporter": "python",
   "pygments_lexer": "ipython3",
   "version": "3.10.11"
  },
  "orig_nbformat": 4
 },
 "nbformat": 4,
 "nbformat_minor": 2
}
